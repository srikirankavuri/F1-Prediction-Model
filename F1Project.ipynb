{
  "nbformat": 4,
  "nbformat_minor": 0,
  "metadata": {
    "colab": {
      "provenance": []
    },
    "kernelspec": {
      "name": "python3",
      "display_name": "Python 3"
    },
    "language_info": {
      "name": "python"
    }
  },
  "cells": [
    {
      "cell_type": "markdown",
      "source": [],
      "metadata": {
        "id": "Fnt7lAHi8pq4"
      }
    },
    {
      "cell_type": "code",
      "source": [
        "pip install fastf1"
      ],
      "metadata": {
        "id": "FA99poSc7Lt_",
        "outputId": "bfc2f155-e2bc-4f66-8e38-e344dd08f6a7",
        "colab": {
          "base_uri": "https://localhost:8080/"
        },
        "collapsed": true
      },
      "execution_count": null,
      "outputs": [
        {
          "output_type": "stream",
          "name": "stdout",
          "text": [
            "Collecting fastf1\n",
            "  Downloading fastf1-3.6.1-py3-none-any.whl.metadata (4.6 kB)\n",
            "Requirement already satisfied: matplotlib<4.0.0,>=3.5.1 in /usr/local/lib/python3.12/dist-packages (from fastf1) (3.10.0)\n",
            "Requirement already satisfied: numpy<3.0.0,>=1.23.1 in /usr/local/lib/python3.12/dist-packages (from fastf1) (2.0.2)\n",
            "Requirement already satisfied: pandas<3.0.0,>=1.4.1 in /usr/local/lib/python3.12/dist-packages (from fastf1) (2.2.2)\n",
            "Requirement already satisfied: python-dateutil in /usr/local/lib/python3.12/dist-packages (from fastf1) (2.9.0.post0)\n",
            "Collecting rapidfuzz (from fastf1)\n",
            "  Downloading rapidfuzz-3.14.1-cp312-cp312-manylinux_2_27_x86_64.manylinux_2_28_x86_64.whl.metadata (12 kB)\n",
            "Collecting requests-cache>=1.0.0 (from fastf1)\n",
            "  Downloading requests_cache-1.2.1-py3-none-any.whl.metadata (9.9 kB)\n",
            "Requirement already satisfied: requests>=2.28.1 in /usr/local/lib/python3.12/dist-packages (from fastf1) (2.32.4)\n",
            "Requirement already satisfied: scipy<2.0.0,>=1.8.1 in /usr/local/lib/python3.12/dist-packages (from fastf1) (1.16.1)\n",
            "Collecting timple>=0.1.6 (from fastf1)\n",
            "  Downloading timple-0.1.8-py3-none-any.whl.metadata (2.0 kB)\n",
            "Collecting websockets<14,>=10.3 (from fastf1)\n",
            "  Downloading websockets-13.1-cp312-cp312-manylinux_2_5_x86_64.manylinux1_x86_64.manylinux_2_17_x86_64.manylinux2014_x86_64.whl.metadata (6.8 kB)\n",
            "Requirement already satisfied: contourpy>=1.0.1 in /usr/local/lib/python3.12/dist-packages (from matplotlib<4.0.0,>=3.5.1->fastf1) (1.3.3)\n",
            "Requirement already satisfied: cycler>=0.10 in /usr/local/lib/python3.12/dist-packages (from matplotlib<4.0.0,>=3.5.1->fastf1) (0.12.1)\n",
            "Requirement already satisfied: fonttools>=4.22.0 in /usr/local/lib/python3.12/dist-packages (from matplotlib<4.0.0,>=3.5.1->fastf1) (4.59.2)\n",
            "Requirement already satisfied: kiwisolver>=1.3.1 in /usr/local/lib/python3.12/dist-packages (from matplotlib<4.0.0,>=3.5.1->fastf1) (1.4.9)\n",
            "Requirement already satisfied: packaging>=20.0 in /usr/local/lib/python3.12/dist-packages (from matplotlib<4.0.0,>=3.5.1->fastf1) (25.0)\n",
            "Requirement already satisfied: pillow>=8 in /usr/local/lib/python3.12/dist-packages (from matplotlib<4.0.0,>=3.5.1->fastf1) (11.3.0)\n",
            "Requirement already satisfied: pyparsing>=2.3.1 in /usr/local/lib/python3.12/dist-packages (from matplotlib<4.0.0,>=3.5.1->fastf1) (3.2.3)\n",
            "Requirement already satisfied: pytz>=2020.1 in /usr/local/lib/python3.12/dist-packages (from pandas<3.0.0,>=1.4.1->fastf1) (2025.2)\n",
            "Requirement already satisfied: tzdata>=2022.7 in /usr/local/lib/python3.12/dist-packages (from pandas<3.0.0,>=1.4.1->fastf1) (2025.2)\n",
            "Requirement already satisfied: six>=1.5 in /usr/local/lib/python3.12/dist-packages (from python-dateutil->fastf1) (1.17.0)\n",
            "Requirement already satisfied: charset_normalizer<4,>=2 in /usr/local/lib/python3.12/dist-packages (from requests>=2.28.1->fastf1) (3.4.3)\n",
            "Requirement already satisfied: idna<4,>=2.5 in /usr/local/lib/python3.12/dist-packages (from requests>=2.28.1->fastf1) (3.10)\n",
            "Requirement already satisfied: urllib3<3,>=1.21.1 in /usr/local/lib/python3.12/dist-packages (from requests>=2.28.1->fastf1) (2.5.0)\n",
            "Requirement already satisfied: certifi>=2017.4.17 in /usr/local/lib/python3.12/dist-packages (from requests>=2.28.1->fastf1) (2025.8.3)\n",
            "Requirement already satisfied: attrs>=21.2 in /usr/local/lib/python3.12/dist-packages (from requests-cache>=1.0.0->fastf1) (25.3.0)\n",
            "Collecting cattrs>=22.2 (from requests-cache>=1.0.0->fastf1)\n",
            "  Downloading cattrs-25.2.0-py3-none-any.whl.metadata (8.4 kB)\n",
            "Requirement already satisfied: platformdirs>=2.5 in /usr/local/lib/python3.12/dist-packages (from requests-cache>=1.0.0->fastf1) (4.4.0)\n",
            "Collecting url-normalize>=1.4 (from requests-cache>=1.0.0->fastf1)\n",
            "  Downloading url_normalize-2.2.1-py3-none-any.whl.metadata (5.6 kB)\n",
            "Requirement already satisfied: typing-extensions>=4.12.2 in /usr/local/lib/python3.12/dist-packages (from cattrs>=22.2->requests-cache>=1.0.0->fastf1) (4.15.0)\n",
            "Downloading fastf1-3.6.1-py3-none-any.whl (148 kB)\n",
            "\u001b[2K   \u001b[90m━━━━━━━━━━━━━━━━━━━━━━━━━━━━━━━━━━━━━━━━\u001b[0m \u001b[32m148.6/148.6 kB\u001b[0m \u001b[31m4.2 MB/s\u001b[0m eta \u001b[36m0:00:00\u001b[0m\n",
            "\u001b[?25hDownloading requests_cache-1.2.1-py3-none-any.whl (61 kB)\n",
            "\u001b[2K   \u001b[90m━━━━━━━━━━━━━━━━━━━━━━━━━━━━━━━━━━━━━━━━\u001b[0m \u001b[32m61.4/61.4 kB\u001b[0m \u001b[31m4.2 MB/s\u001b[0m eta \u001b[36m0:00:00\u001b[0m\n",
            "\u001b[?25hDownloading timple-0.1.8-py3-none-any.whl (17 kB)\n",
            "Downloading websockets-13.1-cp312-cp312-manylinux_2_5_x86_64.manylinux1_x86_64.manylinux_2_17_x86_64.manylinux2014_x86_64.whl (165 kB)\n",
            "\u001b[2K   \u001b[90m━━━━━━━━━━━━━━━━━━━━━━━━━━━━━━━━━━━━━━━━\u001b[0m \u001b[32m165.0/165.0 kB\u001b[0m \u001b[31m10.4 MB/s\u001b[0m eta \u001b[36m0:00:00\u001b[0m\n",
            "\u001b[?25hDownloading rapidfuzz-3.14.1-cp312-cp312-manylinux_2_27_x86_64.manylinux_2_28_x86_64.whl (3.2 MB)\n",
            "\u001b[2K   \u001b[90m━━━━━━━━━━━━━━━━━━━━━━━━━━━━━━━━━━━━━━━━\u001b[0m \u001b[32m3.2/3.2 MB\u001b[0m \u001b[31m47.7 MB/s\u001b[0m eta \u001b[36m0:00:00\u001b[0m\n",
            "\u001b[?25hDownloading cattrs-25.2.0-py3-none-any.whl (70 kB)\n",
            "\u001b[2K   \u001b[90m━━━━━━━━━━━━━━━━━━━━━━━━━━━━━━━━━━━━━━━━\u001b[0m \u001b[32m70.0/70.0 kB\u001b[0m \u001b[31m4.9 MB/s\u001b[0m eta \u001b[36m0:00:00\u001b[0m\n",
            "\u001b[?25hDownloading url_normalize-2.2.1-py3-none-any.whl (14 kB)\n",
            "Installing collected packages: websockets, url-normalize, rapidfuzz, cattrs, requests-cache, timple, fastf1\n",
            "  Attempting uninstall: websockets\n",
            "    Found existing installation: websockets 15.0.1\n",
            "    Uninstalling websockets-15.0.1:\n",
            "      Successfully uninstalled websockets-15.0.1\n",
            "\u001b[31mERROR: pip's dependency resolver does not currently take into account all the packages that are installed. This behaviour is the source of the following dependency conflicts.\n",
            "google-adk 1.13.0 requires websockets<16.0.0,>=15.0.1, but you have websockets 13.1 which is incompatible.\n",
            "dataproc-spark-connect 0.8.3 requires websockets>=14.0, but you have websockets 13.1 which is incompatible.\u001b[0m\u001b[31m\n",
            "\u001b[0mSuccessfully installed cattrs-25.2.0 fastf1-3.6.1 rapidfuzz-3.14.1 requests-cache-1.2.1 timple-0.1.8 url-normalize-2.2.1 websockets-13.1\n"
          ]
        }
      ]
    },
    {
      "cell_type": "code",
      "source": [
        "import fastf1\n",
        "import pandas as pd\n",
        "import numpy as np\n",
        "import warnings"
      ],
      "metadata": {
        "id": "E0uD6seO9VjC"
      },
      "execution_count": null,
      "outputs": []
    },
    {
      "cell_type": "code",
      "source": [
        "print(\"Loading Dutch GP 2025...\")\n",
        "dutch_race = fastf1.get_session(2025, 'Dutch Grand Prix', 'R')\n",
        "dutch_race.load()\n",
        "\n",
        "dutch_results = dutch_race.results\n",
        "print(f\"Dutch GP loaded: {len(dutch_results)} drivers\")"
      ],
      "metadata": {
        "colab": {
          "base_uri": "https://localhost:8080/"
        },
        "id": "l0kCaQ0e-Uce",
        "outputId": "4320f315-bbc3-42a8-e7d3-b31d7278ec7f",
        "collapsed": true
      },
      "execution_count": null,
      "outputs": [
        {
          "output_type": "stream",
          "name": "stderr",
          "text": [
            "core           INFO \tLoading data for Dutch Grand Prix - Race [v3.6.1]\n",
            "INFO:fastf1.fastf1.core:Loading data for Dutch Grand Prix - Race [v3.6.1]\n",
            "req            INFO \tUsing cached data for session_info\n",
            "INFO:fastf1.fastf1.req:Using cached data for session_info\n",
            "req            INFO \tUsing cached data for driver_info\n",
            "INFO:fastf1.fastf1.req:Using cached data for driver_info\n"
          ]
        },
        {
          "output_type": "stream",
          "name": "stdout",
          "text": [
            "Loading Dutch GP 2025...\n"
          ]
        },
        {
          "output_type": "stream",
          "name": "stderr",
          "text": [
            "DEBUG:fastf1.ergast:Failed to parse timestamp '-1:47:38.638' in Ergastresponse.\n",
            "req            INFO \tUsing cached data for session_status_data\n",
            "INFO:fastf1.fastf1.req:Using cached data for session_status_data\n",
            "req            INFO \tUsing cached data for lap_count\n",
            "INFO:fastf1.fastf1.req:Using cached data for lap_count\n",
            "req            INFO \tUsing cached data for track_status_data\n",
            "INFO:fastf1.fastf1.req:Using cached data for track_status_data\n",
            "req            INFO \tUsing cached data for _extended_timing_data\n",
            "INFO:fastf1.fastf1.req:Using cached data for _extended_timing_data\n",
            "req            INFO \tUsing cached data for timing_app_data\n",
            "INFO:fastf1.fastf1.req:Using cached data for timing_app_data\n",
            "core           INFO \tProcessing timing data...\n",
            "INFO:fastf1.fastf1.core:Processing timing data...\n",
            "req            INFO \tUsing cached data for car_data\n",
            "INFO:fastf1.fastf1.req:Using cached data for car_data\n",
            "req            INFO \tUsing cached data for position_data\n",
            "INFO:fastf1.fastf1.req:Using cached data for position_data\n",
            "req            INFO \tUsing cached data for weather_data\n",
            "INFO:fastf1.fastf1.req:Using cached data for weather_data\n",
            "req            INFO \tUsing cached data for race_control_messages\n",
            "INFO:fastf1.fastf1.req:Using cached data for race_control_messages\n",
            "core           INFO \tFinished loading data for 20 drivers: ['81', '1', '6', '63', '23', '87', '18', '14', '22', '31', '43', '30', '55', '27', '5', '12', '10', '4', '16', '44']\n",
            "INFO:fastf1.fastf1.core:Finished loading data for 20 drivers: ['81', '1', '6', '63', '23', '87', '18', '14', '22', '31', '43', '30', '55', '27', '5', '12', '10', '4', '16', '44']\n"
          ]
        },
        {
          "output_type": "stream",
          "name": "stdout",
          "text": [
            "Dutch GP loaded: 20 drivers\n"
          ]
        }
      ]
    },
    {
      "cell_type": "code",
      "source": [
        "dutch_data = []\n",
        "\n",
        "for idx, driver in dutch_results.iterrows():\n",
        "    dutch_data.append({\n",
        "        'race_name': 'Dutch Grand Prix',\n",
        "        'driver': driver['Abbreviation'],\n",
        "        'driver_full_name': driver['FullName'],\n",
        "        'team': driver['TeamName'],\n",
        "        'starting_position': driver['GridPosition'],\n",
        "        'finishing_position': driver['Position'],\n",
        "        'classified_position': driver['ClassifiedPosition'],\n",
        "        'points': driver['Points'],\n",
        "        'status': driver['Status'],\n",
        "        'dnf': 1 if pd.notna(driver['Status']) and driver['Status'] != 'Finished' else 0\n",
        "    })\n",
        "\n",
        "dutch_df = pd.DataFrame(dutch_data)\n",
        "print(\"Dutch GP data extracted\")"
      ],
      "metadata": {
        "colab": {
          "base_uri": "https://localhost:8080/"
        },
        "id": "WKeOShoqTgWF",
        "outputId": "b933f188-6ed6-40e2-9135-860aafd9e870"
      },
      "execution_count": null,
      "outputs": [
        {
          "output_type": "stream",
          "name": "stdout",
          "text": [
            "Dutch GP data extracted\n"
          ]
        }
      ]
    },
    {
      "cell_type": "code",
      "source": [
        "print(dutch_df)"
      ],
      "metadata": {
        "colab": {
          "base_uri": "https://localhost:8080/"
        },
        "id": "1SCM8nnQUB1N",
        "outputId": "253f02ed-faa6-4111-c773-4d2dc4e00602",
        "collapsed": true
      },
      "execution_count": null,
      "outputs": [
        {
          "output_type": "stream",
          "name": "stdout",
          "text": [
            "           race_name driver   driver_full_name             team  \\\n",
            "0   Dutch Grand Prix    PIA      Oscar Piastri          McLaren   \n",
            "1   Dutch Grand Prix    VER     Max Verstappen  Red Bull Racing   \n",
            "2   Dutch Grand Prix    HAD       Isack Hadjar     Racing Bulls   \n",
            "3   Dutch Grand Prix    RUS     George Russell         Mercedes   \n",
            "4   Dutch Grand Prix    ALB    Alexander Albon         Williams   \n",
            "5   Dutch Grand Prix    BEA     Oliver Bearman     Haas F1 Team   \n",
            "6   Dutch Grand Prix    STR       Lance Stroll     Aston Martin   \n",
            "7   Dutch Grand Prix    ALO    Fernando Alonso     Aston Martin   \n",
            "8   Dutch Grand Prix    TSU       Yuki Tsunoda  Red Bull Racing   \n",
            "9   Dutch Grand Prix    OCO       Esteban Ocon     Haas F1 Team   \n",
            "10  Dutch Grand Prix    COL   Franco Colapinto           Alpine   \n",
            "11  Dutch Grand Prix    LAW        Liam Lawson     Racing Bulls   \n",
            "12  Dutch Grand Prix    SAI       Carlos Sainz         Williams   \n",
            "13  Dutch Grand Prix    HUL    Nico Hulkenberg      Kick Sauber   \n",
            "14  Dutch Grand Prix    BOR  Gabriel Bortoleto      Kick Sauber   \n",
            "15  Dutch Grand Prix    ANT     Kimi Antonelli         Mercedes   \n",
            "16  Dutch Grand Prix    GAS       Pierre Gasly           Alpine   \n",
            "17  Dutch Grand Prix    NOR       Lando Norris          McLaren   \n",
            "18  Dutch Grand Prix    LEC    Charles Leclerc          Ferrari   \n",
            "19  Dutch Grand Prix    HAM     Lewis Hamilton          Ferrari   \n",
            "\n",
            "    starting_position  finishing_position classified_position  points  \\\n",
            "0                 1.0                 1.0                   1    25.0   \n",
            "1                 3.0                 2.0                   2    18.0   \n",
            "2                 4.0                 3.0                   3    15.0   \n",
            "3                 5.0                 4.0                   4    12.0   \n",
            "4                15.0                 5.0                   5    10.0   \n",
            "5                20.0                 6.0                   6     8.0   \n",
            "6                19.0                 7.0                   7     6.0   \n",
            "7                10.0                 8.0                   8     4.0   \n",
            "8                12.0                 9.0                   9     2.0   \n",
            "9                18.0                10.0                  10     1.0   \n",
            "10               16.0                11.0                  11     0.0   \n",
            "11                8.0                12.0                  12     0.0   \n",
            "12                9.0                13.0                  13     0.0   \n",
            "13               17.0                14.0                  14     0.0   \n",
            "14               13.0                15.0                  15     0.0   \n",
            "15               11.0                16.0                  16     0.0   \n",
            "16               14.0                17.0                  17     0.0   \n",
            "17                2.0                18.0                  18     0.0   \n",
            "18                6.0                19.0                   R     0.0   \n",
            "19                7.0                20.0                   R     0.0   \n",
            "\n",
            "      status  dnf  \n",
            "0   Finished    0  \n",
            "1   Finished    0  \n",
            "2   Finished    0  \n",
            "3   Finished    0  \n",
            "4   Finished    0  \n",
            "5   Finished    0  \n",
            "6   Finished    0  \n",
            "7   Finished    0  \n",
            "8   Finished    0  \n",
            "9   Finished    0  \n",
            "10  Finished    0  \n",
            "11  Finished    0  \n",
            "12  Finished    0  \n",
            "13  Finished    0  \n",
            "14  Finished    0  \n",
            "15  Finished    0  \n",
            "16  Finished    0  \n",
            "17   Retired    1  \n",
            "18   Retired    1  \n",
            "19   Retired    1  \n"
          ]
        }
      ]
    },
    {
      "cell_type": "code",
      "source": [
        "print(dir(dutch_race))"
      ],
      "metadata": {
        "colab": {
          "base_uri": "https://localhost:8080/"
        },
        "id": "e5gi0tGH_EFH",
        "outputId": "848fed57-485e-4b5c-dc57-da4edeb1eb7f"
      },
      "execution_count": null,
      "outputs": [
        {
          "output_type": "stream",
          "name": "stdout",
          "text": [
            "['_QUALI_LIKE_SESSIONS', '_RACE_LIKE_SESSIONS', '_Session__fix_tyre_info', '__class__', '__delattr__', '__dict__', '__dir__', '__doc__', '__eq__', '__format__', '__ge__', '__getattribute__', '__getstate__', '__gt__', '__hash__', '__init__', '__init_subclass__', '__le__', '__lt__', '__module__', '__ne__', '__new__', '__reduce__', '__reduce_ex__', '__repr__', '__setattr__', '__sizeof__', '__str__', '__subclasshook__', '__weakref__', '_add_first_lap_time_from_ergast', '_add_track_status_to_laps', '_calculate_quali_like_session_results', '_calculate_race_like_session_results', '_calculate_t0_date', '_car_data', '_check_lap_accuracy', '_drivers_from_f1_api', '_drivers_results_from_ergast', '_ergast', '_fix_missing_laps_retired_on_track', '_get_property_warn_not_loaded', '_laps', '_load_drivers_results', '_load_laps_data', '_load_race_control_messages', '_load_session_info', '_load_session_status_data', '_load_telemetry', '_load_total_lap_count', '_load_track_status_data', '_load_weather_data', '_pos_data', '_race_control_messages', '_results', '_session_info', '_session_split_times', '_session_start_time', '_session_status', '_set_laps_deleted_from_rcm', '_t0_date', '_total_laps', '_track_status', '_weather_data', 'api_path', 'car_data', 'date', 'drivers', 'event', 'f1_api_support', 'get_circuit_info', 'get_driver', 'laps', 'load', 'name', 'pos_data', 'race_control_messages', 'results', 'session_info', 'session_start_time', 'session_status', 't0_date', 'total_laps', 'track_status', 'weather_data']\n"
          ]
        }
      ]
    },
    {
      "cell_type": "code",
      "source": [
        "hungarian_race = fastf1.get_session(2025, 'Hungarian', 'R')\n",
        "hungarian_race.load()\n",
        "\n",
        "hungarian_results = hungarian_race.results\n",
        "print(f\"Hungarian GP loaded: {len(hungarian_results)} drivers\")"
      ],
      "metadata": {
        "colab": {
          "base_uri": "https://localhost:8080/"
        },
        "collapsed": true,
        "id": "wyxzMnK-_vhl",
        "outputId": "26ac2cfd-ef4f-4d9f-a99d-e623f5e87e92"
      },
      "execution_count": null,
      "outputs": [
        {
          "output_type": "stream",
          "name": "stderr",
          "text": [
            "core           INFO \tLoading data for Hungarian Grand Prix - Race [v3.6.1]\n",
            "INFO:fastf1.fastf1.core:Loading data for Hungarian Grand Prix - Race [v3.6.1]\n",
            "req            INFO \tNo cached data found for session_info. Loading data...\n",
            "INFO:fastf1.fastf1.req:No cached data found for session_info. Loading data...\n",
            "_api           INFO \tFetching session info data...\n",
            "INFO:fastf1.api:Fetching session info data...\n",
            "req            INFO \tData has been written to cache!\n",
            "INFO:fastf1.fastf1.req:Data has been written to cache!\n",
            "req            INFO \tNo cached data found for driver_info. Loading data...\n",
            "INFO:fastf1.fastf1.req:No cached data found for driver_info. Loading data...\n",
            "_api           INFO \tFetching driver list...\n",
            "INFO:fastf1.api:Fetching driver list...\n",
            "req            INFO \tData has been written to cache!\n",
            "INFO:fastf1.fastf1.req:Data has been written to cache!\n",
            "req            INFO \tNo cached data found for session_status_data. Loading data...\n",
            "INFO:fastf1.fastf1.req:No cached data found for session_status_data. Loading data...\n",
            "_api           INFO \tFetching session status data...\n",
            "INFO:fastf1.api:Fetching session status data...\n",
            "req            INFO \tData has been written to cache!\n",
            "INFO:fastf1.fastf1.req:Data has been written to cache!\n",
            "req            INFO \tNo cached data found for lap_count. Loading data...\n",
            "INFO:fastf1.fastf1.req:No cached data found for lap_count. Loading data...\n",
            "_api           INFO \tFetching lap count data...\n",
            "INFO:fastf1.api:Fetching lap count data...\n",
            "req            INFO \tData has been written to cache!\n",
            "INFO:fastf1.fastf1.req:Data has been written to cache!\n",
            "req            INFO \tNo cached data found for track_status_data. Loading data...\n",
            "INFO:fastf1.fastf1.req:No cached data found for track_status_data. Loading data...\n",
            "_api           INFO \tFetching track status data...\n",
            "INFO:fastf1.api:Fetching track status data...\n",
            "req            INFO \tData has been written to cache!\n",
            "INFO:fastf1.fastf1.req:Data has been written to cache!\n",
            "req            INFO \tNo cached data found for _extended_timing_data. Loading data...\n",
            "INFO:fastf1.fastf1.req:No cached data found for _extended_timing_data. Loading data...\n",
            "_api           INFO \tFetching timing data...\n",
            "INFO:fastf1.api:Fetching timing data...\n",
            "_api           INFO \tParsing timing data...\n",
            "INFO:fastf1.api:Parsing timing data...\n",
            "req            INFO \tData has been written to cache!\n",
            "INFO:fastf1.fastf1.req:Data has been written to cache!\n",
            "req            INFO \tNo cached data found for timing_app_data. Loading data...\n",
            "INFO:fastf1.fastf1.req:No cached data found for timing_app_data. Loading data...\n",
            "_api           INFO \tFetching timing app data...\n",
            "INFO:fastf1.api:Fetching timing app data...\n",
            "req            INFO \tData has been written to cache!\n",
            "INFO:fastf1.fastf1.req:Data has been written to cache!\n",
            "core           INFO \tProcessing timing data...\n",
            "INFO:fastf1.fastf1.core:Processing timing data...\n",
            "req            INFO \tNo cached data found for car_data. Loading data...\n",
            "INFO:fastf1.fastf1.req:No cached data found for car_data. Loading data...\n",
            "_api           INFO \tFetching car data...\n",
            "INFO:fastf1.api:Fetching car data...\n",
            "_api           INFO \tParsing car data...\n",
            "INFO:fastf1.api:Parsing car data...\n",
            "req            INFO \tData has been written to cache!\n",
            "INFO:fastf1.fastf1.req:Data has been written to cache!\n",
            "req            INFO \tNo cached data found for position_data. Loading data...\n",
            "INFO:fastf1.fastf1.req:No cached data found for position_data. Loading data...\n",
            "_api           INFO \tFetching position data...\n",
            "INFO:fastf1.api:Fetching position data...\n",
            "_api           INFO \tParsing position data...\n",
            "INFO:fastf1.api:Parsing position data...\n",
            "req            INFO \tData has been written to cache!\n",
            "INFO:fastf1.fastf1.req:Data has been written to cache!\n",
            "req            INFO \tNo cached data found for weather_data. Loading data...\n",
            "INFO:fastf1.fastf1.req:No cached data found for weather_data. Loading data...\n",
            "_api           INFO \tFetching weather data...\n",
            "INFO:fastf1.api:Fetching weather data...\n",
            "req            INFO \tData has been written to cache!\n",
            "INFO:fastf1.fastf1.req:Data has been written to cache!\n",
            "req            INFO \tNo cached data found for race_control_messages. Loading data...\n",
            "INFO:fastf1.fastf1.req:No cached data found for race_control_messages. Loading data...\n",
            "_api           INFO \tFetching race control messages...\n",
            "INFO:fastf1.api:Fetching race control messages...\n",
            "req            INFO \tData has been written to cache!\n",
            "INFO:fastf1.fastf1.req:Data has been written to cache!\n",
            "core           INFO \tFinished loading data for 20 drivers: ['4', '81', '63', '16', '14', '5', '18', '30', '1', '12', '6', '44', '27', '55', '23', '31', '22', '43', '10', '87']\n",
            "INFO:fastf1.fastf1.core:Finished loading data for 20 drivers: ['4', '81', '63', '16', '14', '5', '18', '30', '1', '12', '6', '44', '27', '55', '23', '31', '22', '43', '10', '87']\n"
          ]
        },
        {
          "output_type": "stream",
          "name": "stdout",
          "text": [
            "Hungarian GP loaded: 20 drivers\n"
          ]
        }
      ]
    },
    {
      "cell_type": "code",
      "source": [
        "hungarian_data = []\n",
        "\n",
        "for idx, driver in hungarian_results.iterrows():\n",
        "    hungarian_data.append({\n",
        "        'race_name': 'Hungarian Grand Prix',\n",
        "        'driver': driver['Abbreviation'],\n",
        "        'driver_full_name': driver['FullName'],\n",
        "        'team': driver['TeamName'],\n",
        "        'starting_position': driver['GridPosition'],\n",
        "        'finishing_position': driver['Position'],\n",
        "        'classified_position': driver['ClassifiedPosition'],\n",
        "        'points': driver['Points'],\n",
        "        'status': driver['Status'],\n",
        "        'dnf': 1 if pd.notna(driver['Status']) and driver['Status'] != 'Finished' else 0\n",
        "    })\n",
        "\n",
        "hungarian_df = pd.DataFrame(hungarian_data)\n",
        "print(\"Hungarian GP data extracted\")"
      ],
      "metadata": {
        "colab": {
          "base_uri": "https://localhost:8080/"
        },
        "id": "B0nhXinuTR-s",
        "outputId": "103f89ff-0dea-4a71-949a-90d53fa65cc4"
      },
      "execution_count": null,
      "outputs": [
        {
          "output_type": "stream",
          "name": "stdout",
          "text": [
            "Hungarian GP data extracted\n"
          ]
        }
      ]
    },
    {
      "cell_type": "code",
      "source": [
        "print(hungarian_df)"
      ],
      "metadata": {
        "id": "JFO7zLgvVLC4",
        "outputId": "d23746b7-d519-42af-e513-eacab796ed63",
        "colab": {
          "base_uri": "https://localhost:8080/"
        }
      },
      "execution_count": null,
      "outputs": [
        {
          "output_type": "stream",
          "name": "stdout",
          "text": [
            "               race_name driver   driver_full_name             team  \\\n",
            "0   Hungarian Grand Prix    NOR       Lando Norris          McLaren   \n",
            "1   Hungarian Grand Prix    PIA      Oscar Piastri          McLaren   \n",
            "2   Hungarian Grand Prix    RUS     George Russell         Mercedes   \n",
            "3   Hungarian Grand Prix    LEC    Charles Leclerc          Ferrari   \n",
            "4   Hungarian Grand Prix    ALO    Fernando Alonso     Aston Martin   \n",
            "5   Hungarian Grand Prix    BOR  Gabriel Bortoleto      Kick Sauber   \n",
            "6   Hungarian Grand Prix    STR       Lance Stroll     Aston Martin   \n",
            "7   Hungarian Grand Prix    LAW        Liam Lawson     Racing Bulls   \n",
            "8   Hungarian Grand Prix    VER     Max Verstappen  Red Bull Racing   \n",
            "9   Hungarian Grand Prix    ANT     Kimi Antonelli         Mercedes   \n",
            "10  Hungarian Grand Prix    HAD       Isack Hadjar     Racing Bulls   \n",
            "11  Hungarian Grand Prix    HAM     Lewis Hamilton          Ferrari   \n",
            "12  Hungarian Grand Prix    HUL    Nico Hulkenberg      Kick Sauber   \n",
            "13  Hungarian Grand Prix    SAI       Carlos Sainz         Williams   \n",
            "14  Hungarian Grand Prix    ALB    Alexander Albon         Williams   \n",
            "15  Hungarian Grand Prix    OCO       Esteban Ocon     Haas F1 Team   \n",
            "16  Hungarian Grand Prix    TSU       Yuki Tsunoda  Red Bull Racing   \n",
            "17  Hungarian Grand Prix    COL   Franco Colapinto           Alpine   \n",
            "18  Hungarian Grand Prix    GAS       Pierre Gasly           Alpine   \n",
            "19  Hungarian Grand Prix    BEA     Oliver Bearman     Haas F1 Team   \n",
            "\n",
            "    starting_position  finishing_position classified_position  points  \\\n",
            "0                 3.0                 1.0                   1    25.0   \n",
            "1                 2.0                 2.0                   2    18.0   \n",
            "2                 4.0                 3.0                   3    15.0   \n",
            "3                 1.0                 4.0                   4    12.0   \n",
            "4                 5.0                 5.0                   5    10.0   \n",
            "5                 7.0                 6.0                   6     8.0   \n",
            "6                 6.0                 7.0                   7     6.0   \n",
            "7                 9.0                 8.0                   8     4.0   \n",
            "8                 8.0                 9.0                   9     2.0   \n",
            "9                15.0                10.0                  10     1.0   \n",
            "10               10.0                11.0                  11     0.0   \n",
            "11               12.0                12.0                  12     0.0   \n",
            "12               18.0                13.0                  13     0.0   \n",
            "13               13.0                14.0                  14     0.0   \n",
            "14               19.0                15.0                  15     0.0   \n",
            "15               17.0                16.0                  16     0.0   \n",
            "16               20.0                17.0                  17     0.0   \n",
            "17               14.0                18.0                  18     0.0   \n",
            "18               16.0                19.0                  19     0.0   \n",
            "19               11.0                20.0                   R     0.0   \n",
            "\n",
            "      status  dnf  \n",
            "0   Finished    0  \n",
            "1   Finished    0  \n",
            "2   Finished    0  \n",
            "3   Finished    0  \n",
            "4   Finished    0  \n",
            "5   Finished    0  \n",
            "6   Finished    0  \n",
            "7   Finished    0  \n",
            "8   Finished    0  \n",
            "9     Lapped    1  \n",
            "10    Lapped    1  \n",
            "11    Lapped    1  \n",
            "12    Lapped    1  \n",
            "13    Lapped    1  \n",
            "14    Lapped    1  \n",
            "15    Lapped    1  \n",
            "16    Lapped    1  \n",
            "17    Lapped    1  \n",
            "18    Lapped    1  \n",
            "19   Retired    1  \n"
          ]
        }
      ]
    }
  ]
}